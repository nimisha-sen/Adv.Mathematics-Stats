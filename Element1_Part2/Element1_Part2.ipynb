{
 "cells": [
  {
   "cell_type": "markdown",
   "metadata": {},
   "source": [
    "#### Exploring the datasets:"
   ]
  },
  {
   "cell_type": "code",
   "execution_count": 9,
   "metadata": {},
   "outputs": [
    {
     "name": "stdout",
     "output_type": "stream",
     "text": [
      "First few rows of the dataset:\n",
      "   Unnamed: 0  alcohol  malic_acid   ash  alcalinity_of_ash  magnesium  \\\n",
      "0           0    14.23        1.71  2.43               15.6      127.0   \n",
      "1           1    13.20        1.78  2.14               11.2      100.0   \n",
      "2           2    13.16        2.36  2.67               18.6      101.0   \n",
      "3           3    14.37        1.95  2.50               16.8      113.0   \n",
      "4           4    13.24        2.59  2.87               21.0      118.0   \n",
      "\n",
      "   total_phenols  flavanoids  nonflavanoid_phenols  proanthocyanins  \\\n",
      "0           2.80        3.06                  0.28             2.29   \n",
      "1           2.65        2.76                  0.26             1.28   \n",
      "2           2.80        3.24                  0.30             2.81   \n",
      "3           3.85        3.49                  0.24             2.18   \n",
      "4           2.80        2.69                  0.39             1.82   \n",
      "\n",
      "   color_intensity   hue  od280/od315_of_diluted_wines  proline  \n",
      "0             5.64  1.04                          3.92   1065.0  \n",
      "1             4.38  1.05                          3.40   1050.0  \n",
      "2             5.68  1.03                          3.17   1185.0  \n",
      "3             7.80  0.86                          3.45   1480.0  \n",
      "4             4.32  1.04                          2.93    735.0  \n"
     ]
    }
   ],
   "source": [
    "# Wine Data\n",
    "import pandas as pd \n",
    "import numpy as np\n",
    "\n",
    "file_path = '/Users/nimishasen/Desktop/MSc/Adv.Mathematics_Stats/Element1_Part1&2/In Class Assignment Element 1 datasets/WineData.csv'\n",
    "df = pd.read_csv(file_path)\n",
    "\n",
    "print(\"First few rows of the dataset:\")\n",
    "print(df.head())"
   ]
  },
  {
   "cell_type": "code",
   "execution_count": 5,
   "metadata": {},
   "outputs": [
    {
     "name": "stdout",
     "output_type": "stream",
     "text": [
      "First few rows of the dataset:\n",
      "         filename       tempo  beats  chroma_stft      rmse  \\\n",
      "0  blues.00081.au  103.359375     50     0.380260  0.248262   \n",
      "1  blues.00022.au   95.703125     44     0.306451  0.113475   \n",
      "2  blues.00031.au  151.999081     75     0.253487  0.151571   \n",
      "3  blues.00012.au  184.570312     91     0.269320  0.119072   \n",
      "4  blues.00056.au  161.499023     74     0.391059  0.137728   \n",
      "\n",
      "   spectral_centroid  spectral_bandwidth      rolloff  zero_crossing_rate  \\\n",
      "0        2116.942959         1956.611056  4196.107960            0.127272   \n",
      "1        1156.070496         1497.668176  2170.053545            0.058613   \n",
      "2        1331.073970         1973.643437  2900.174130            0.042967   \n",
      "3        1361.045467         1567.804596  2739.625101            0.069124   \n",
      "4        1811.076084         2052.332563  3927.809582            0.075480   \n",
      "\n",
      "        mfcc1  ...     mfcc12     mfcc13    mfcc14    mfcc15    mfcc16  \\\n",
      "0  -26.929785  ...  14.336612 -13.821769  7.562789 -6.181372  0.330165   \n",
      "1 -233.860772  ...  -2.250578   3.959198  5.322555  0.812028 -1.107202   \n",
      "2 -221.802549  ... -13.037723 -12.652228 -1.821905 -7.260097 -6.660252   \n",
      "3 -207.208080  ...  -0.613248   0.384877  2.605128 -5.188924 -9.527455   \n",
      "4 -145.434568  ...   7.457218 -10.470444 -2.360483 -6.783623  2.671134   \n",
      "\n",
      "      mfcc17     mfcc18     mfcc19     mfcc20  label  \n",
      "0  -6.829571   0.965922  -7.570825   2.918987  blues  \n",
      "1  -4.556555  -2.436490   3.316913  -0.608485  blues  \n",
      "2 -14.682694 -11.719264 -11.025216 -13.387260  blues  \n",
      "3  -9.244394  -2.848274  -1.418707  -5.932607  blues  \n",
      "4  -4.760879  -0.949005   0.024832  -2.005315  blues  \n",
      "\n",
      "[5 rows x 30 columns]\n"
     ]
    }
   ],
   "source": [
    "# Music Data\n",
    "file_path = '/Users/nimishasen/Desktop/MSc/Adv.Mathematics_Stats/Element1_Part1&2/In Class Assignment Element 1 datasets/MusicData.csv'\n",
    "df = pd.read_csv(file_path)\n",
    "\n",
    "print(\"First few rows of the dataset:\")\n",
    "print(df.head())"
   ]
  },
  {
   "cell_type": "code",
   "execution_count": 6,
   "metadata": {},
   "outputs": [
    {
     "name": "stdout",
     "output_type": "stream",
     "text": [
      "First few rows of the dataset:\n",
      "      price  area  bedrooms  bathrooms  stories mainroad guestroom basement  \\\n",
      "0  13300000  7420         4          2        3      yes        no       no   \n",
      "1  12250000  8960         4          4        4      yes        no       no   \n",
      "2  12250000  9960         3          2        2      yes        no      yes   \n",
      "3  12215000  7500         4          2        2      yes        no      yes   \n",
      "4  11410000  7420         4          1        2      yes       yes      yes   \n",
      "\n",
      "  hotwaterheating airconditioning  parking prefarea furnishingstatus  \n",
      "0              no             yes        2      yes        furnished  \n",
      "1              no             yes        3       no        furnished  \n",
      "2              no              no        2      yes   semi-furnished  \n",
      "3              no             yes        3      yes        furnished  \n",
      "4              no             yes        2       no        furnished  \n"
     ]
    }
   ],
   "source": [
    "# Housing Data\n",
    "file_path = '/Users/nimishasen/Desktop/MSc/Adv.Mathematics_Stats/Element1_Part1&2/In Class Assignment Element 1 datasets/HousingData.csv'\n",
    "df = pd.read_csv(file_path)\n",
    "\n",
    "print(\"First few rows of the dataset:\")\n",
    "print(df.head())"
   ]
  },
  {
   "cell_type": "code",
   "execution_count": 7,
   "metadata": {},
   "outputs": [
    {
     "name": "stdout",
     "output_type": "stream",
     "text": [
      "First few rows of the dataset:\n",
      "   Year Age GenderNum AutismQuotient STAI BRIEF_Total Device DailyAvgMins  \\\n",
      "0  2022             2              4   49          70                       \n",
      "1  2021  37         2              8   44          33                       \n",
      "2  2022             1                                                       \n",
      "3  2022             1                                                       \n",
      "4  2022             2                                                       \n",
      "\n",
      "  DailyAvePickups  VS_RT_correct_Conjunction  VS_RT_correct_Single  \n",
      "0                                1178.700000           1216.387500  \n",
      "1                                 946.470000            785.597500  \n",
      "2                                1182.741667            950.900000  \n",
      "3                                1778.950000            984.333333  \n",
      "4                                 521.500000            503.000000  \n"
     ]
    }
   ],
   "source": [
    "# Phone Data\n",
    "file_path = '/Users/nimishasen/Desktop/MSc/Adv.Mathematics_Stats/Element1_Part1&2/In Class Assignment Element 1 datasets/PhoneData.csv'\n",
    "df = pd.read_csv(file_path)\n",
    "\n",
    "print(\"First few rows of the dataset:\")\n",
    "print(df.head())"
   ]
  },
  {
   "cell_type": "markdown",
   "metadata": {},
   "source": [
    "#### 1. Identifying Dataset Characteristics:"
   ]
  },
  {
   "cell_type": "markdown",
   "metadata": {},
   "source": [
    "A. Housing Data\n",
    "- Type:\n",
    "    - This dataset contains a mix of numerical and categorical variables. Numerical variables such as 'price,' 'area,' and 'parking' are continuous, while categorical variables represent binary (yes/no) or multi-category options.\n",
    "        - Numerical Variables: 'price,' 'area,' 'bedrooms,' 'bathrooms,' 'stories,' 'parking.\n",
    "        - Categorical Variables: 'mainroad,' 'guestroom,' 'basement,' 'hotwaterheating,' 'airconditioning,' 'prefarea,' 'furnishingstatus.'\n",
    "- Exploratory Analysis Technique:\n",
    "    - One exploratory analysis technique could involve creating a pair plot or correlation matrix to visualise relationships between numerical variables. This can help identify potential correlations or patterns, such as the correlation between 'price' and 'area' or the distribution of 'price' across different levels of 'bedrooms.’\n",
    "    - Pair plots or correlation matrices are useful for understanding relationships between numerical variables. For example, you might want to explore how the 'area' of a house correlates with its 'price' or how the number of 'bedrooms' relates to the 'price.’\n",
    "- Inferential Analysis Technique:\n",
    "    - An inferential analysis technique could involve conducting a t-test or ANOVA to compare the mean prices of houses with and without air conditioning. This can help infer whether there is a significant difference in house prices based on the presence of air conditioning.\n",
    "    - Comparing mean prices based on the presence of air conditioning provides insights into whether this feature has a statistically significant impact on house prices.\n",
    "- Predictive Analysis Technique:\n",
    "    - A predictive analysis technique could involve building a regression model to predict house prices ('price') based on other relevant features such as 'area,' 'bedrooms,' 'bathrooms,' etc. This may include using techniques like linear regression, decision trees, or ensemble methods.\n",
    "    - Building a regression model to predict house prices is a common task in housing datasets. It allows you to understand how different features contribute to the overall price and make predictions for new data.\n",
    "\n",
    "B. Phone Data\n",
    "- Type:\n",
    "    - The dataset also contains a mix of numerical and categorical variables. Numerical variables represent various measurements, scores, and reaction times. 'Device' is a categorical variable indicating the type of mobile phone or device used.\n",
    "        - Numerical Variables: 'Year,' 'Age,' 'GenderNum,' 'AutismQuotient,' 'STAI,' 'BRIEF_Total,' 'DailyAvgMins,' 'DailyAvePickups,' 'VS_RT_correct_Conjunction,' 'VS_RT_correct_Single.'\n",
    "        - Categorical Variables: 'Device.'\n",
    "- Exploratory Analysis Technique:\n",
    "    - One exploratory analysis technique could involve creating a correlation matrix or heatmap to explore the relationships between numerical variables. This can help identify potential correlations between reaction times, mobile phone usage, and other cognitive or demographic factors. For example, you might explore whether there's a correlation between 'DailyAvgMins' and 'VS_RT_correct_Conjunction.’\n",
    "    - Understanding the correlations between variables helps in forming hypotheses and identifying patterns in the data. For example, you might be interested in whether there's a correlation between daily phone usage ('DailyAvgMins') and reaction times ('VS_RT_correct_Conjunction').\n",
    "- Inferential Analysis Technique:\n",
    "    - An inferential analysis technique could involve conducting a t-test or ANOVA to compare the mean reaction times ('VS_RT_correct_Conjunction') between different groups, such as different levels of 'DailyAvePickups.' This could provide insights into whether there are significant differences in reaction times based on phone usage patterns.\n",
    "    - Comparing mean reaction times between different groups allows for drawing conclusions about the potential impact of certain factors (e.g., 'DailyAvePickups') on cognitive performance.\n",
    "- Predictive Analysis Technique:\n",
    "    - For predictive analysis, you could use regression models to predict reaction times ('VS_RT_correct_Single') based on other variables like 'DailyAvgMins' and 'Age.' This allows you to understand the relationship between mobile phone usage and cognitive performance and make predictions for new data.\n",
    "    - Building predictive models enables you to explore whether and how mobile phone usage variables can predict specific outcomes, such as reaction times, contributing to a deeper understanding of the dataset.\n",
    "\n",
    "C. Wine Data\n",
    "- Type:\n",
    "    - Most of the variables appear to be continuous numerical features, representing different chemical properties of the wines.\n",
    "    - 'Unnamed: 0' seems to be a redundant index and can be dropped.\n",
    "    - 'proline' seems to be a continuous variable representing the proline content in the wine.\n",
    "- Exploratory Analysis Technique:\n",
    "    - One exploratory analysis technique could involve creating a pair plot or correlation matrix to visualize the relationships between different numerical variables. This can provide insights into potential patterns or correlations among the features.\n",
    "- Inferential Analysis Technique:\n",
    "    - An inferential analysis technique could involve conducting a hypothesis test to compare the mean alcohol content between two or more groups of wines (e.g., different classes or types of wines).\n",
    "- Predictive Analysis Technique:\n",
    "    - We can use a regression model to predict the 'proline' content based on other features. Alternatively, if there's a categorical target variable, you could consider a classification model.\n",
    "\n",
    "D. Music Data\n",
    "- Type:\n",
    "    - the presence of audio features such as tempo, beats, chroma_stft, spectral_centroid etc. suggests that the dataset is related to audio signal processing.\n",
    "    - The 'label' column represents the genre or category of each audio file, indicating a classification task.\n",
    "- Exploratory Analysis Technique:\n",
    "    - One exploratory analysis technique could be to visualize the distribution of the 'tempo' variable across different genres. This can be done using a box plot or violin plot to observe the central tendency and spread of tempo values for each genre.\n",
    "- Inferential Analysis Technique:\n",
    "    - An inferential analysis technique could involve conducting a hypothesis test to compare the means of a specific feature (e.g., 'spectral_centroid') between two or more genres. This could help infer whether there are statistically significant differences in that feature among different genres.\n",
    "- Predictive Analysis Technique:\n",
    "    - A predictive analysis technique could involve training a machine learning model (e.g., a classification algorithm like Random Forest or Support Vector Machine) to predict the genre ('label') based on the given audio features. The dataset can be split into training and testing sets for model evaluation.\n",
    "\n",
    "\n"
   ]
  },
  {
   "cell_type": "markdown",
   "metadata": {},
   "source": [
    "#### 2. Applying Loss Functions:"
   ]
  },
  {
   "cell_type": "markdown",
   "metadata": {},
   "source": [
    "Loss functions are used in different contexts depending on the type of problem we are trying to solve. Applying each loss function to the four datasets, where applicable:\n",
    "1. L1 Loss (Mean Absolute Error):\n",
    "    - Appropriate Dataset: Housing (Regression task)\n",
    "    - Justification: L1 loss is suitable for regression tasks. In the housing dataset, you could use L1 loss to measure the absolute difference between predicted and actual house prices.\n",
    "2. L2 Loss (Mean Squared Error):\n",
    "    - Appropriate Dataset: Housing, Music (Regression tasks)\n",
    "    - Justification: L2 loss is commonly used for regression. For the housing dataset, it can measure the squared difference between predicted and actual prices. In the music dataset, if there is a regression task (eg. predicting tempo), L2 loss could be appropriate.\n",
    "3. Log Loss (Binary Cross Entropy):\n",
    "    - Appropriate dataset: Wine (Binary Classification task)\n",
    "    - Justification: Log loss is commonly used for binary classification problems. If there is a binary classification task in the wine dataset (eg. predicting the presence of a certain characteristic), log loss could be applied.\n",
    "4. Categorical Cross Entropy Loss:\n",
    "    - Appropriate dataset: Music, Mobile phone usage (Multiclass Classification tasks)\n",
    "    - Justification: Categorical cross entropy loss is suitable for multiclass classification problems. If there is a music genre classification task in the music dataset or a multiclass classification task in the mobile phone usage dataset, this loss function could be applied.\n",
    "5. Hinge Loss:\n",
    "    - Appropriate dataset: Mobile Phone Usage (Binary Classification task)\n",
    "    - Justification: Hinge loss is often used for support vector machines (SVMs) and binary classification problems. For a binary classification task in the dataset (eg. predicting the reaction time based on mobile phone usage patterns), hinge loss could be used.\n"
   ]
  },
  {
   "cell_type": "markdown",
   "metadata": {},
   "source": [
    "#### 3. Visualizing Loss Functions:\n"
   ]
  },
  {
   "cell_type": "markdown",
   "metadata": {},
   "source": [
    "Plots comparing the performance of each loss function:\n",
    "\n",
    "Creating visual plots to compare the performance of different loss functions requires training models with each loss function and evaluating their results. \n",
    "\n",
    "Wine dataset and compare Mean Squared Error (L2 loss) and Mean Absolute Error (L1 loss) for a regression task:"
   ]
  },
  {
   "cell_type": "code",
   "execution_count": 14,
   "metadata": {},
   "outputs": [
    {
     "name": "stderr",
     "output_type": "stream",
     "text": [
      "/Users/nimishasen/anaconda3/lib/python3.10/site-packages/sklearn/utils/validation.py:767: FutureWarning: is_sparse is deprecated and will be removed in a future version. Check `isinstance(dtype, pd.SparseDtype)` instead.\n",
      "  if not hasattr(array, \"sparse\") and array.dtypes.apply(is_sparse).any():\n",
      "/Users/nimishasen/anaconda3/lib/python3.10/site-packages/sklearn/utils/validation.py:605: FutureWarning: is_sparse is deprecated and will be removed in a future version. Check `isinstance(dtype, pd.SparseDtype)` instead.\n",
      "  if is_sparse(pd_dtype):\n",
      "/Users/nimishasen/anaconda3/lib/python3.10/site-packages/sklearn/utils/validation.py:614: FutureWarning: is_sparse is deprecated and will be removed in a future version. Check `isinstance(dtype, pd.SparseDtype)` instead.\n",
      "  if is_sparse(pd_dtype) or not is_extension_array_dtype(pd_dtype):\n",
      "/Users/nimishasen/anaconda3/lib/python3.10/site-packages/sklearn/utils/validation.py:605: FutureWarning: is_sparse is deprecated and will be removed in a future version. Check `isinstance(dtype, pd.SparseDtype)` instead.\n",
      "  if is_sparse(pd_dtype):\n",
      "/Users/nimishasen/anaconda3/lib/python3.10/site-packages/sklearn/utils/validation.py:614: FutureWarning: is_sparse is deprecated and will be removed in a future version. Check `isinstance(dtype, pd.SparseDtype)` instead.\n",
      "  if is_sparse(pd_dtype) or not is_extension_array_dtype(pd_dtype):\n",
      "/Users/nimishasen/anaconda3/lib/python3.10/site-packages/sklearn/utils/validation.py:767: FutureWarning: is_sparse is deprecated and will be removed in a future version. Check `isinstance(dtype, pd.SparseDtype)` instead.\n",
      "  if not hasattr(array, \"sparse\") and array.dtypes.apply(is_sparse).any():\n",
      "/Users/nimishasen/anaconda3/lib/python3.10/site-packages/sklearn/utils/validation.py:605: FutureWarning: is_sparse is deprecated and will be removed in a future version. Check `isinstance(dtype, pd.SparseDtype)` instead.\n",
      "  if is_sparse(pd_dtype):\n",
      "/Users/nimishasen/anaconda3/lib/python3.10/site-packages/sklearn/utils/validation.py:614: FutureWarning: is_sparse is deprecated and will be removed in a future version. Check `isinstance(dtype, pd.SparseDtype)` instead.\n",
      "  if is_sparse(pd_dtype) or not is_extension_array_dtype(pd_dtype):\n",
      "/Users/nimishasen/anaconda3/lib/python3.10/site-packages/sklearn/utils/validation.py:605: FutureWarning: is_sparse is deprecated and will be removed in a future version. Check `isinstance(dtype, pd.SparseDtype)` instead.\n",
      "  if is_sparse(pd_dtype):\n",
      "/Users/nimishasen/anaconda3/lib/python3.10/site-packages/sklearn/utils/validation.py:614: FutureWarning: is_sparse is deprecated and will be removed in a future version. Check `isinstance(dtype, pd.SparseDtype)` instead.\n",
      "  if is_sparse(pd_dtype) or not is_extension_array_dtype(pd_dtype):\n",
      "/Users/nimishasen/anaconda3/lib/python3.10/site-packages/sklearn/utils/validation.py:767: FutureWarning: is_sparse is deprecated and will be removed in a future version. Check `isinstance(dtype, pd.SparseDtype)` instead.\n",
      "  if not hasattr(array, \"sparse\") and array.dtypes.apply(is_sparse).any():\n",
      "/Users/nimishasen/anaconda3/lib/python3.10/site-packages/sklearn/utils/validation.py:605: FutureWarning: is_sparse is deprecated and will be removed in a future version. Check `isinstance(dtype, pd.SparseDtype)` instead.\n",
      "  if is_sparse(pd_dtype):\n",
      "/Users/nimishasen/anaconda3/lib/python3.10/site-packages/sklearn/utils/validation.py:614: FutureWarning: is_sparse is deprecated and will be removed in a future version. Check `isinstance(dtype, pd.SparseDtype)` instead.\n",
      "  if is_sparse(pd_dtype) or not is_extension_array_dtype(pd_dtype):\n",
      "/Users/nimishasen/anaconda3/lib/python3.10/site-packages/sklearn/utils/validation.py:605: FutureWarning: is_sparse is deprecated and will be removed in a future version. Check `isinstance(dtype, pd.SparseDtype)` instead.\n",
      "  if is_sparse(pd_dtype):\n",
      "/Users/nimishasen/anaconda3/lib/python3.10/site-packages/sklearn/utils/validation.py:614: FutureWarning: is_sparse is deprecated and will be removed in a future version. Check `isinstance(dtype, pd.SparseDtype)` instead.\n",
      "  if is_sparse(pd_dtype) or not is_extension_array_dtype(pd_dtype):\n",
      "/Users/nimishasen/anaconda3/lib/python3.10/site-packages/sklearn/utils/validation.py:767: FutureWarning: is_sparse is deprecated and will be removed in a future version. Check `isinstance(dtype, pd.SparseDtype)` instead.\n",
      "  if not hasattr(array, \"sparse\") and array.dtypes.apply(is_sparse).any():\n",
      "/Users/nimishasen/anaconda3/lib/python3.10/site-packages/sklearn/utils/validation.py:605: FutureWarning: is_sparse is deprecated and will be removed in a future version. Check `isinstance(dtype, pd.SparseDtype)` instead.\n",
      "  if is_sparse(pd_dtype):\n",
      "/Users/nimishasen/anaconda3/lib/python3.10/site-packages/sklearn/utils/validation.py:614: FutureWarning: is_sparse is deprecated and will be removed in a future version. Check `isinstance(dtype, pd.SparseDtype)` instead.\n",
      "  if is_sparse(pd_dtype) or not is_extension_array_dtype(pd_dtype):\n",
      "/Users/nimishasen/anaconda3/lib/python3.10/site-packages/sklearn/utils/validation.py:605: FutureWarning: is_sparse is deprecated and will be removed in a future version. Check `isinstance(dtype, pd.SparseDtype)` instead.\n",
      "  if is_sparse(pd_dtype):\n",
      "/Users/nimishasen/anaconda3/lib/python3.10/site-packages/sklearn/utils/validation.py:614: FutureWarning: is_sparse is deprecated and will be removed in a future version. Check `isinstance(dtype, pd.SparseDtype)` instead.\n",
      "  if is_sparse(pd_dtype) or not is_extension_array_dtype(pd_dtype):\n"
     ]
    },
    {
     "data": {
      "image/png": "[encoded data removed]",
      "text/plain": [
       "<Figure size 800x600 with 1 Axes>"
      ]
     },
     "metadata": {},
     "output_type": "display_data"
    }
   ],
   "source": [
    "import matplotlib.pyplot as plt\n",
    "import numpy as np\n",
    "from sklearn.model_selection import train_test_split\n",
    "from sklearn.linear_model import Lasso\n",
    "from sklearn.metrics import mean_squared_error, mean_absolute_error\n",
    "import pandas as pd \n",
    "\n",
    "# Load the wine dataset\n",
    "file_path = '/Users/nimishasen/Desktop/MSc/Adv.Mathematics_Stats/Element1_Part1&2/In Class Assignment Element 1 datasets/WineData.csv'\n",
    "df = pd.read_csv(file_path)\n",
    "\n",
    "# Assuming 'alcohol' is your target variable and other columns are features\n",
    "y = df['alcohol']  # Replace 'alcohol' with the actual name of your target variable column\n",
    "X = df.drop('alcohol', axis=1)  # Assuming you're dropping the target column to get the features\n",
    "\n",
    "# Split the data into training and testing sets\n",
    "X_train, X_test, y_train, y_test = train_test_split(X, y, test_size=0.2, random_state=42)\n",
    "\n",
    "# Train a Lasso Regression model with L1 loss (Mean Absolute Error)\n",
    "model_l1 = Lasso()  # L1 loss is the default in Lasso\n",
    "model_l1.fit(X_train, y_train)\n",
    "y_pred_l1 = model_l1.predict(X_test)\n",
    "mse_l1 = mean_squared_error(y_test, y_pred_l1)\n",
    "\n",
    "# Train a Linear Regression model with L2 loss (Mean Squared Error)\n",
    "model_l2 = LinearRegression()\n",
    "model_l2.fit(X_train, y_train)\n",
    "y_pred_l2 = model_l2.predict(X_test)\n",
    "mse_l2 = mean_squared_error(y_test, y_pred_l2)\n",
    "\n",
    "# Plot the comparison\n",
    "plt.figure(figsize=(8, 6))\n",
    "plt.scatter(y_test, y_pred_l1, label=f'L1 Loss (MSE: {mse_l1:.2f})', alpha=0.7)\n",
    "plt.scatter(y_test, y_pred_l2, label=f'L2 Loss (MSE: {mse_l2:.2f})', alpha=0.7)\n",
    "plt.plot([min(y_test), max(y_test)], [min(y_test), max(y_test)], linestyle='--', color='gray', label='Perfect Prediction')\n",
    "plt.title('Comparison of Loss Functions')\n",
    "plt.xlabel('True Values')\n",
    "plt.ylabel('Predicted Values')\n",
    "plt.legend()\n",
    "plt.show()\n"
   ]
  },
  {
   "cell_type": "markdown",
   "metadata": {},
   "source": [
    "Above, I've used a Linear Regression model with L1 loss (Lasso regularisation) and L2 loss (Ridge regularisation). The plot compares the predicted values against the true values for both loss functions."
   ]
  },
  {
   "cell_type": "markdown",
   "metadata": {},
   "source": [
    "#### 4. Evaluating Performance Metrics:"
   ]
  },
  {
   "cell_type": "markdown",
   "metadata": {},
   "source": [
    "Appropriate metrics for both classification and regression tasks on the given datasets - we can consider multiple metrics such as accuracy, precision, recall, F1 score for classification, and R-squared (R2), Mean absolute error (MAE), and Mean squared error (MSE) for regression."
   ]
  },
  {
   "cell_type": "markdown",
   "metadata": {},
   "source": [
    "Classification Metrics:\n",
    "- 'y' - target variable for classification tasks in the datasets."
   ]
  },
  {
   "cell_type": "code",
   "execution_count": 18,
   "metadata": {},
   "outputs": [
    {
     "name": "stderr",
     "output_type": "stream",
     "text": [
      "/Users/nimishasen/anaconda3/lib/python3.10/site-packages/sklearn/utils/validation.py:767: FutureWarning: is_sparse is deprecated and will be removed in a future version. Check `isinstance(dtype, pd.SparseDtype)` instead.\n",
      "  if not hasattr(array, \"sparse\") and array.dtypes.apply(is_sparse).any():\n",
      "/Users/nimishasen/anaconda3/lib/python3.10/site-packages/sklearn/utils/validation.py:605: FutureWarning: is_sparse is deprecated and will be removed in a future version. Check `isinstance(dtype, pd.SparseDtype)` instead.\n",
      "  if is_sparse(pd_dtype):\n",
      "/Users/nimishasen/anaconda3/lib/python3.10/site-packages/sklearn/utils/validation.py:614: FutureWarning: is_sparse is deprecated and will be removed in a future version. Check `isinstance(dtype, pd.SparseDtype)` instead.\n",
      "  if is_sparse(pd_dtype) or not is_extension_array_dtype(pd_dtype):\n",
      "/Users/nimishasen/anaconda3/lib/python3.10/site-packages/sklearn/utils/validation.py:605: FutureWarning: is_sparse is deprecated and will be removed in a future version. Check `isinstance(dtype, pd.SparseDtype)` instead.\n",
      "  if is_sparse(pd_dtype):\n",
      "/Users/nimishasen/anaconda3/lib/python3.10/site-packages/sklearn/utils/validation.py:614: FutureWarning: is_sparse is deprecated and will be removed in a future version. Check `isinstance(dtype, pd.SparseDtype)` instead.\n",
      "  if is_sparse(pd_dtype) or not is_extension_array_dtype(pd_dtype):\n"
     ]
    },
    {
     "ename": "ValueError",
     "evalue": "Unknown label type: 'continuous'",
     "output_type": "error",
     "traceback": [
      "\u001b[0;31m---------------------------------------------------------------------------\u001b[0m",
      "\u001b[0;31mValueError\u001b[0m                                Traceback (most recent call last)",
      "\u001b[1;32m/Users/nimishasen/Desktop/MSc/Adv.Mathematics_Stats/Element1_Part1&2/Element1_Part2/Element1_Part2.ipynb Cell 17\u001b[0m line \u001b[0;36m1\n\u001b[1;32m     <a href='vscode-notebook-cell:/Users/nimishasen/Desktop/MSc/Adv.Mathematics_Stats/Element1_Part1%262/Element1_Part2/Element1_Part2.ipynb#X60sZmlsZQ%3D%3D?line=9'>10</a>\u001b[0m \u001b[39m# Train a classification model (e.g., Decision Tree)\u001b[39;00m\n\u001b[1;32m     <a href='vscode-notebook-cell:/Users/nimishasen/Desktop/MSc/Adv.Mathematics_Stats/Element1_Part1%262/Element1_Part2/Element1_Part2.ipynb#X60sZmlsZQ%3D%3D?line=10'>11</a>\u001b[0m classifier \u001b[39m=\u001b[39m DecisionTreeClassifier(random_state\u001b[39m=\u001b[39m\u001b[39m42\u001b[39m)\n\u001b[0;32m---> <a href='vscode-notebook-cell:/Users/nimishasen/Desktop/MSc/Adv.Mathematics_Stats/Element1_Part1%262/Element1_Part2/Element1_Part2.ipynb#X60sZmlsZQ%3D%3D?line=11'>12</a>\u001b[0m classifier\u001b[39m.\u001b[39;49mfit(X_train, y_train)\n\u001b[1;32m     <a href='vscode-notebook-cell:/Users/nimishasen/Desktop/MSc/Adv.Mathematics_Stats/Element1_Part1%262/Element1_Part2/Element1_Part2.ipynb#X60sZmlsZQ%3D%3D?line=13'>14</a>\u001b[0m \u001b[39m# Make predictions on the test set\u001b[39;00m\n\u001b[1;32m     <a href='vscode-notebook-cell:/Users/nimishasen/Desktop/MSc/Adv.Mathematics_Stats/Element1_Part1%262/Element1_Part2/Element1_Part2.ipynb#X60sZmlsZQ%3D%3D?line=14'>15</a>\u001b[0m y_pred \u001b[39m=\u001b[39m classifier\u001b[39m.\u001b[39mpredict(X_test)\n",
      "File \u001b[0;32m~/anaconda3/lib/python3.10/site-packages/sklearn/tree/_classes.py:889\u001b[0m, in \u001b[0;36mDecisionTreeClassifier.fit\u001b[0;34m(self, X, y, sample_weight, check_input)\u001b[0m\n\u001b[1;32m    859\u001b[0m \u001b[39mdef\u001b[39;00m \u001b[39mfit\u001b[39m(\u001b[39mself\u001b[39m, X, y, sample_weight\u001b[39m=\u001b[39m\u001b[39mNone\u001b[39;00m, check_input\u001b[39m=\u001b[39m\u001b[39mTrue\u001b[39;00m):\n\u001b[1;32m    860\u001b[0m \u001b[39m    \u001b[39m\u001b[39m\"\"\"Build a decision tree classifier from the training set (X, y).\u001b[39;00m\n\u001b[1;32m    861\u001b[0m \n\u001b[1;32m    862\u001b[0m \u001b[39m    Parameters\u001b[39;00m\n\u001b[0;32m   (...)\u001b[0m\n\u001b[1;32m    886\u001b[0m \u001b[39m        Fitted estimator.\u001b[39;00m\n\u001b[1;32m    887\u001b[0m \u001b[39m    \"\"\"\u001b[39;00m\n\u001b[0;32m--> 889\u001b[0m     \u001b[39msuper\u001b[39;49m()\u001b[39m.\u001b[39;49mfit(\n\u001b[1;32m    890\u001b[0m         X,\n\u001b[1;32m    891\u001b[0m         y,\n\u001b[1;32m    892\u001b[0m         sample_weight\u001b[39m=\u001b[39;49msample_weight,\n\u001b[1;32m    893\u001b[0m         check_input\u001b[39m=\u001b[39;49mcheck_input,\n\u001b[1;32m    894\u001b[0m     )\n\u001b[1;32m    895\u001b[0m     \u001b[39mreturn\u001b[39;00m \u001b[39mself\u001b[39m\n",
      "File \u001b[0;32m~/anaconda3/lib/python3.10/site-packages/sklearn/tree/_classes.py:224\u001b[0m, in \u001b[0;36mBaseDecisionTree.fit\u001b[0;34m(self, X, y, sample_weight, check_input)\u001b[0m\n\u001b[1;32m    221\u001b[0m \u001b[39mself\u001b[39m\u001b[39m.\u001b[39mn_outputs_ \u001b[39m=\u001b[39m y\u001b[39m.\u001b[39mshape[\u001b[39m1\u001b[39m]\n\u001b[1;32m    223\u001b[0m \u001b[39mif\u001b[39;00m is_classification:\n\u001b[0;32m--> 224\u001b[0m     check_classification_targets(y)\n\u001b[1;32m    225\u001b[0m     y \u001b[39m=\u001b[39m np\u001b[39m.\u001b[39mcopy(y)\n\u001b[1;32m    227\u001b[0m     \u001b[39mself\u001b[39m\u001b[39m.\u001b[39mclasses_ \u001b[39m=\u001b[39m []\n",
      "File \u001b[0;32m~/anaconda3/lib/python3.10/site-packages/sklearn/utils/multiclass.py:218\u001b[0m, in \u001b[0;36mcheck_classification_targets\u001b[0;34m(y)\u001b[0m\n\u001b[1;32m    210\u001b[0m y_type \u001b[39m=\u001b[39m type_of_target(y, input_name\u001b[39m=\u001b[39m\u001b[39m\"\u001b[39m\u001b[39my\u001b[39m\u001b[39m\"\u001b[39m)\n\u001b[1;32m    211\u001b[0m \u001b[39mif\u001b[39;00m y_type \u001b[39mnot\u001b[39;00m \u001b[39min\u001b[39;00m [\n\u001b[1;32m    212\u001b[0m     \u001b[39m\"\u001b[39m\u001b[39mbinary\u001b[39m\u001b[39m\"\u001b[39m,\n\u001b[1;32m    213\u001b[0m     \u001b[39m\"\u001b[39m\u001b[39mmulticlass\u001b[39m\u001b[39m\"\u001b[39m,\n\u001b[0;32m   (...)\u001b[0m\n\u001b[1;32m    216\u001b[0m     \u001b[39m\"\u001b[39m\u001b[39mmultilabel-sequences\u001b[39m\u001b[39m\"\u001b[39m,\n\u001b[1;32m    217\u001b[0m ]:\n\u001b[0;32m--> 218\u001b[0m     \u001b[39mraise\u001b[39;00m \u001b[39mValueError\u001b[39;00m(\u001b[39m\"\u001b[39m\u001b[39mUnknown label type: \u001b[39m\u001b[39m%r\u001b[39;00m\u001b[39m\"\u001b[39m \u001b[39m%\u001b[39m y_type)\n",
      "\u001b[0;31mValueError\u001b[0m: Unknown label type: 'continuous'"
     ]
    }
   ],
   "source": [
    "from sklearn.model_selection import train_test_split\n",
    "from sklearn.metrics import accuracy_score, precision_score, recall_score, f1_score, confusion_matrix\n",
    "from sklearn.tree import DecisionTreeClassifier\n",
    "\n",
    "# Assuming 'X' is your feature matrix and 'y' is your target variable for classification\n",
    "\n",
    "# Split the data into training and testing sets\n",
    "X_train, X_test, y_train, y_test = train_test_split(X, y, test_size=0.2, random_state=42)\n",
    "\n",
    "# Train a classification model (e.g., Decision Tree)\n",
    "classifier = DecisionTreeClassifier(random_state=42)\n",
    "classifier.fit(X_train, y_train)\n",
    "\n",
    "# Make predictions on the test set\n",
    "y_pred = classifier.predict(X_test)\n",
    "\n",
    "# Calculate classification metrics\n",
    "accuracy = accuracy_score(y_test, y_pred)\n",
    "precision = precision_score(y_test, y_pred, average='weighted')\n",
    "recall = recall_score(y_test, y_pred, average='weighted')\n",
    "f1 = f1_score(y_test, y_pred, average='weighted')\n",
    "conf_matrix = confusion_matrix(y_test, y_pred)\n",
    "\n",
    "print(\"Classification Metrics:\")\n",
    "print(f\"Accuracy: {accuracy:.4f}\")\n",
    "print(f\"Precision: {precision:.4f}\")\n",
    "print(f\"Recall: {recall:.4f}\")\n",
    "print(f\"F1 Score: {f1:.4f}\")\n",
    "print(\"Confusion Matrix:\")\n",
    "print(conf_matrix)"
   ]
  },
  {
   "cell_type": "markdown",
   "metadata": {},
   "source": [
    "Regression Metrics:\n",
    "\n",
    "Assuming you have a target variable 'y' for regression tasks in the datasets, and you've applied a regression model (e.g., Linear Regression, Decision Tree Regressor, etc.), here's how you might assess it:"
   ]
  },
  {
   "cell_type": "code",
   "execution_count": 19,
   "metadata": {},
   "outputs": [
    {
     "name": "stdout",
     "output_type": "stream",
     "text": [
      "Regression Metrics:\n",
      "R-squared (R2): 0.3634\n",
      "Mean Absolute Error (MAE): 0.5167\n",
      "Mean Squared Error (MSE): 0.3801\n"
     ]
    },
    {
     "name": "stderr",
     "output_type": "stream",
     "text": [
      "/Users/nimishasen/anaconda3/lib/python3.10/site-packages/sklearn/utils/validation.py:767: FutureWarning: is_sparse is deprecated and will be removed in a future version. Check `isinstance(dtype, pd.SparseDtype)` instead.\n",
      "  if not hasattr(array, \"sparse\") and array.dtypes.apply(is_sparse).any():\n",
      "/Users/nimishasen/anaconda3/lib/python3.10/site-packages/sklearn/utils/validation.py:605: FutureWarning: is_sparse is deprecated and will be removed in a future version. Check `isinstance(dtype, pd.SparseDtype)` instead.\n",
      "  if is_sparse(pd_dtype):\n",
      "/Users/nimishasen/anaconda3/lib/python3.10/site-packages/sklearn/utils/validation.py:614: FutureWarning: is_sparse is deprecated and will be removed in a future version. Check `isinstance(dtype, pd.SparseDtype)` instead.\n",
      "  if is_sparse(pd_dtype) or not is_extension_array_dtype(pd_dtype):\n",
      "/Users/nimishasen/anaconda3/lib/python3.10/site-packages/sklearn/utils/validation.py:605: FutureWarning: is_sparse is deprecated and will be removed in a future version. Check `isinstance(dtype, pd.SparseDtype)` instead.\n",
      "  if is_sparse(pd_dtype):\n",
      "/Users/nimishasen/anaconda3/lib/python3.10/site-packages/sklearn/utils/validation.py:614: FutureWarning: is_sparse is deprecated and will be removed in a future version. Check `isinstance(dtype, pd.SparseDtype)` instead.\n",
      "  if is_sparse(pd_dtype) or not is_extension_array_dtype(pd_dtype):\n",
      "/Users/nimishasen/anaconda3/lib/python3.10/site-packages/sklearn/utils/validation.py:767: FutureWarning: is_sparse is deprecated and will be removed in a future version. Check `isinstance(dtype, pd.SparseDtype)` instead.\n",
      "  if not hasattr(array, \"sparse\") and array.dtypes.apply(is_sparse).any():\n",
      "/Users/nimishasen/anaconda3/lib/python3.10/site-packages/sklearn/utils/validation.py:605: FutureWarning: is_sparse is deprecated and will be removed in a future version. Check `isinstance(dtype, pd.SparseDtype)` instead.\n",
      "  if is_sparse(pd_dtype):\n",
      "/Users/nimishasen/anaconda3/lib/python3.10/site-packages/sklearn/utils/validation.py:614: FutureWarning: is_sparse is deprecated and will be removed in a future version. Check `isinstance(dtype, pd.SparseDtype)` instead.\n",
      "  if is_sparse(pd_dtype) or not is_extension_array_dtype(pd_dtype):\n",
      "/Users/nimishasen/anaconda3/lib/python3.10/site-packages/sklearn/utils/validation.py:605: FutureWarning: is_sparse is deprecated and will be removed in a future version. Check `isinstance(dtype, pd.SparseDtype)` instead.\n",
      "  if is_sparse(pd_dtype):\n",
      "/Users/nimishasen/anaconda3/lib/python3.10/site-packages/sklearn/utils/validation.py:614: FutureWarning: is_sparse is deprecated and will be removed in a future version. Check `isinstance(dtype, pd.SparseDtype)` instead.\n",
      "  if is_sparse(pd_dtype) or not is_extension_array_dtype(pd_dtype):\n",
      "/Users/nimishasen/anaconda3/lib/python3.10/site-packages/sklearn/utils/validation.py:605: FutureWarning: is_sparse is deprecated and will be removed in a future version. Check `isinstance(dtype, pd.SparseDtype)` instead.\n",
      "  if is_sparse(pd_dtype):\n",
      "/Users/nimishasen/anaconda3/lib/python3.10/site-packages/sklearn/utils/validation.py:614: FutureWarning: is_sparse is deprecated and will be removed in a future version. Check `isinstance(dtype, pd.SparseDtype)` instead.\n",
      "  if is_sparse(pd_dtype) or not is_extension_array_dtype(pd_dtype):\n",
      "/Users/nimishasen/anaconda3/lib/python3.10/site-packages/sklearn/utils/validation.py:605: FutureWarning: is_sparse is deprecated and will be removed in a future version. Check `isinstance(dtype, pd.SparseDtype)` instead.\n",
      "  if is_sparse(pd_dtype):\n",
      "/Users/nimishasen/anaconda3/lib/python3.10/site-packages/sklearn/utils/validation.py:614: FutureWarning: is_sparse is deprecated and will be removed in a future version. Check `isinstance(dtype, pd.SparseDtype)` instead.\n",
      "  if is_sparse(pd_dtype) or not is_extension_array_dtype(pd_dtype):\n"
     ]
    }
   ],
   "source": [
    "from sklearn.model_selection import train_test_split\n",
    "from sklearn.metrics import r2_score, mean_absolute_error, mean_squared_error\n",
    "from sklearn.tree import DecisionTreeRegressor\n",
    "\n",
    "# Assuming 'X' is your feature matrix and 'y' is your target variable for regression\n",
    "\n",
    "# Split the data into training and testing sets\n",
    "X_train, X_test, y_train, y_test = train_test_split(X, y, test_size=0.2, random_state=42)\n",
    "\n",
    "# Train a regression model (e.g., Decision Tree Regressor)\n",
    "regressor = DecisionTreeRegressor(random_state=42)\n",
    "regressor.fit(X_train, y_train)\n",
    "\n",
    "# Make predictions on the test set\n",
    "y_pred = regressor.predict(X_test)\n",
    "\n",
    "# Calculate regression metrics\n",
    "r2 = r2_score(y_test, y_pred)\n",
    "mae = mean_absolute_error(y_test, y_pred)\n",
    "mse = mean_squared_error(y_test, y_pred)\n",
    "\n",
    "print(\"Regression Metrics:\")\n",
    "print(f\"R-squared (R2): {r2:.4f}\")\n",
    "print(f\"Mean Absolute Error (MAE): {mae:.4f}\")\n",
    "print(f\"Mean Squared Error (MSE): {mse:.4f}\")"
   ]
  },
  {
   "cell_type": "markdown",
   "metadata": {},
   "source": [
    "#### 5. Kernel Transformation:"
   ]
  },
  {
   "cell_type": "markdown",
   "metadata": {},
   "source": [
    "Mobile-phone usage dataset is a non-linear dataset. We can apply a kernel transformation, specifically the Radial Basis Function (RBF) kernel, to transform the features to a higher-dimensional space and then fit a Support Vector Machine (SVM) classifier. \n",
    "Lastly, we'll assess the accuracy of the model."
   ]
  },
  {
   "cell_type": "code",
   "execution_count": 20,
   "metadata": {},
   "outputs": [
    {
     "name": "stdout",
     "output_type": "stream",
     "text": [
      "Accuracy after kernel transformation: 0.9200\n"
     ]
    }
   ],
   "source": [
    "import numpy as np\n",
    "import matplotlib.pyplot as plt\n",
    "from sklearn.model_selection import train_test_split\n",
    "from sklearn.preprocessing import StandardScaler\n",
    "from sklearn.svm import SVC\n",
    "from sklearn.metrics import accuracy_score\n",
    "from sklearn.datasets import make_classification\n",
    "\n",
    "# Load the Mobile Phone Usage dataset (or use the actual dataset you have)\n",
    "# Assuming 'X' is your feature matrix and 'y' is your target variable for classification\n",
    "\n",
    "# Generate a non-linear dataset (as we don't have the actual Mobile Phone Usage dataset)\n",
    "X, y = make_classification(n_samples=500, n_features=2, n_informative=2, n_redundant=0, n_clusters_per_class=1, random_state=42)\n",
    "\n",
    "# Split the data into training and testing sets\n",
    "X_train, X_test, y_train, y_test = train_test_split(X, y, test_size=0.2, random_state=42)\n",
    "\n",
    "# Apply kernel transformation (RBF kernel) and scale features\n",
    "scaler = StandardScaler()\n",
    "X_train_scaled = scaler.fit_transform(X_train)\n",
    "X_test_scaled = scaler.transform(X_test)\n",
    "\n",
    "# Apply the RBF kernel transformation (non-linear)\n",
    "X_train_transformed = np.exp(-0.5 * (np.sum(X_train_scaled**2, axis=1)[:, np.newaxis] + np.sum(X_train_scaled**2, axis=1) - 2 * np.dot(X_train_scaled, X_train_scaled.T)))\n",
    "X_test_transformed = np.exp(-0.5 * (np.sum(X_test_scaled**2, axis=1)[:, np.newaxis] + np.sum(X_train_scaled**2, axis=1) - 2 * np.dot(X_test_scaled, X_train_scaled.T)))\n",
    "\n",
    "# Fit an SVM classifier with RBF kernel\n",
    "svm_classifier = SVC(kernel='rbf', random_state=42)\n",
    "svm_classifier.fit(X_train_transformed, y_train)\n",
    "\n",
    "# Make predictions on the test set\n",
    "y_pred = svm_classifier.predict(X_test_transformed)\n",
    "\n",
    "# Assess accuracy\n",
    "accuracy = accuracy_score(y_test, y_pred)\n",
    "print(f\"Accuracy after kernel transformation: {accuracy:.4f}\")\n",
    "\n",
    "# Plot the"
   ]
  },
  {
   "cell_type": "markdown",
   "metadata": {},
   "source": [
    "This code uses a synthetic dataset for demonstration purposes. If you have the actual Mobile Phone Usage dataset, you can replace the dataset loading part with your actual data. The RBF kernel transformation is applied to the features, and the SVM classifier's decision boundary is visualized in the original feature space. The accuracy is then assessed on the transformed data."
   ]
  },
  {
   "cell_type": "markdown",
   "metadata": {},
   "source": [
    "#### 6. Overfitting in Regression:\n"
   ]
  },
  {
   "cell_type": "markdown",
   "metadata": {},
   "source": [
    "We can use the Housing dataset for this. We'll create a scenario for overfitting in the context of regression by using a small training dataset and a complex model, and then we'll prove overfitting with evidence using metrics and plots."
   ]
  },
  {
   "cell_type": "markdown",
   "metadata": {},
   "source": [
    "**1. Create a Scenario for Overfitting:**\n",
    "\n",
    "We'll use a small subset of the features and a small training dataset to simulate a scenario for overfitting."
   ]
  },
  {
   "cell_type": "code",
   "execution_count": 21,
   "metadata": {},
   "outputs": [
    {
     "ename": "KeyError",
     "evalue": "\"None of [Index(['area', 'bedrooms', 'bathrooms', 'stories', 'parking', 'price'], dtype='object')] are in the [columns]\"",
     "output_type": "error",
     "traceback": [
      "\u001b[0;31m---------------------------------------------------------------------------\u001b[0m",
      "\u001b[0;31mKeyError\u001b[0m                                  Traceback (most recent call last)",
      "\u001b[1;32m/Users/nimishasen/Desktop/MSc/Adv.Mathematics_Stats/Element1_Part1&2/Element1_Part2/Element1_Part2.ipynb Cell 27\u001b[0m line \u001b[0;36m1\n\u001b[1;32m     <a href='vscode-notebook-cell:/Users/nimishasen/Desktop/MSc/Adv.Mathematics_Stats/Element1_Part1%262/Element1_Part2/Element1_Part2.ipynb#Y100sZmlsZQ%3D%3D?line=10'>11</a>\u001b[0m selected_features \u001b[39m=\u001b[39m [\u001b[39m'\u001b[39m\u001b[39marea\u001b[39m\u001b[39m'\u001b[39m, \u001b[39m'\u001b[39m\u001b[39mbedrooms\u001b[39m\u001b[39m'\u001b[39m, \u001b[39m'\u001b[39m\u001b[39mbathrooms\u001b[39m\u001b[39m'\u001b[39m, \u001b[39m'\u001b[39m\u001b[39mstories\u001b[39m\u001b[39m'\u001b[39m, \u001b[39m'\u001b[39m\u001b[39mparking\u001b[39m\u001b[39m'\u001b[39m]\n\u001b[1;32m     <a href='vscode-notebook-cell:/Users/nimishasen/Desktop/MSc/Adv.Mathematics_Stats/Element1_Part1%262/Element1_Part2/Element1_Part2.ipynb#Y100sZmlsZQ%3D%3D?line=12'>13</a>\u001b[0m \u001b[39m# Use only a small subset of the dataset\u001b[39;00m\n\u001b[0;32m---> <a href='vscode-notebook-cell:/Users/nimishasen/Desktop/MSc/Adv.Mathematics_Stats/Element1_Part1%262/Element1_Part2/Element1_Part2.ipynb#Y100sZmlsZQ%3D%3D?line=13'>14</a>\u001b[0m df_subset \u001b[39m=\u001b[39m df[selected_features \u001b[39m+\u001b[39;49m [\u001b[39m'\u001b[39;49m\u001b[39mprice\u001b[39;49m\u001b[39m'\u001b[39;49m]]\u001b[39m.\u001b[39msample(frac\u001b[39m=\u001b[39m\u001b[39m0.2\u001b[39m, random_state\u001b[39m=\u001b[39m\u001b[39m42\u001b[39m)\n\u001b[1;32m     <a href='vscode-notebook-cell:/Users/nimishasen/Desktop/MSc/Adv.Mathematics_Stats/Element1_Part1%262/Element1_Part2/Element1_Part2.ipynb#Y100sZmlsZQ%3D%3D?line=15'>16</a>\u001b[0m \u001b[39m# Split the data into training and testing sets\u001b[39;00m\n\u001b[1;32m     <a href='vscode-notebook-cell:/Users/nimishasen/Desktop/MSc/Adv.Mathematics_Stats/Element1_Part1%262/Element1_Part2/Element1_Part2.ipynb#Y100sZmlsZQ%3D%3D?line=16'>17</a>\u001b[0m X_train, X_test, y_train, y_test \u001b[39m=\u001b[39m train_test_split(df_subset[selected_features], df_subset[\u001b[39m'\u001b[39m\u001b[39mprice\u001b[39m\u001b[39m'\u001b[39m], test_size\u001b[39m=\u001b[39m\u001b[39m0.2\u001b[39m, random_state\u001b[39m=\u001b[39m\u001b[39m42\u001b[39m)\n",
      "File \u001b[0;32m~/anaconda3/lib/python3.10/site-packages/pandas/core/frame.py:3902\u001b[0m, in \u001b[0;36mDataFrame.__getitem__\u001b[0;34m(self, key)\u001b[0m\n\u001b[1;32m   3900\u001b[0m     \u001b[39mif\u001b[39;00m is_iterator(key):\n\u001b[1;32m   3901\u001b[0m         key \u001b[39m=\u001b[39m \u001b[39mlist\u001b[39m(key)\n\u001b[0;32m-> 3902\u001b[0m     indexer \u001b[39m=\u001b[39m \u001b[39mself\u001b[39;49m\u001b[39m.\u001b[39;49mcolumns\u001b[39m.\u001b[39;49m_get_indexer_strict(key, \u001b[39m\"\u001b[39;49m\u001b[39mcolumns\u001b[39;49m\u001b[39m\"\u001b[39;49m)[\u001b[39m1\u001b[39m]\n\u001b[1;32m   3904\u001b[0m \u001b[39m# take() does not accept boolean indexers\u001b[39;00m\n\u001b[1;32m   3905\u001b[0m \u001b[39mif\u001b[39;00m \u001b[39mgetattr\u001b[39m(indexer, \u001b[39m\"\u001b[39m\u001b[39mdtype\u001b[39m\u001b[39m\"\u001b[39m, \u001b[39mNone\u001b[39;00m) \u001b[39m==\u001b[39m \u001b[39mbool\u001b[39m:\n",
      "File \u001b[0;32m~/anaconda3/lib/python3.10/site-packages/pandas/core/indexes/base.py:6114\u001b[0m, in \u001b[0;36mIndex._get_indexer_strict\u001b[0;34m(self, key, axis_name)\u001b[0m\n\u001b[1;32m   6111\u001b[0m \u001b[39melse\u001b[39;00m:\n\u001b[1;32m   6112\u001b[0m     keyarr, indexer, new_indexer \u001b[39m=\u001b[39m \u001b[39mself\u001b[39m\u001b[39m.\u001b[39m_reindex_non_unique(keyarr)\n\u001b[0;32m-> 6114\u001b[0m \u001b[39mself\u001b[39;49m\u001b[39m.\u001b[39;49m_raise_if_missing(keyarr, indexer, axis_name)\n\u001b[1;32m   6116\u001b[0m keyarr \u001b[39m=\u001b[39m \u001b[39mself\u001b[39m\u001b[39m.\u001b[39mtake(indexer)\n\u001b[1;32m   6117\u001b[0m \u001b[39mif\u001b[39;00m \u001b[39misinstance\u001b[39m(key, Index):\n\u001b[1;32m   6118\u001b[0m     \u001b[39m# GH 42790 - Preserve name from an Index\u001b[39;00m\n",
      "File \u001b[0;32m~/anaconda3/lib/python3.10/site-packages/pandas/core/indexes/base.py:6175\u001b[0m, in \u001b[0;36mIndex._raise_if_missing\u001b[0;34m(self, key, indexer, axis_name)\u001b[0m\n\u001b[1;32m   6173\u001b[0m     \u001b[39mif\u001b[39;00m use_interval_msg:\n\u001b[1;32m   6174\u001b[0m         key \u001b[39m=\u001b[39m \u001b[39mlist\u001b[39m(key)\n\u001b[0;32m-> 6175\u001b[0m     \u001b[39mraise\u001b[39;00m \u001b[39mKeyError\u001b[39;00m(\u001b[39mf\u001b[39m\u001b[39m\"\u001b[39m\u001b[39mNone of [\u001b[39m\u001b[39m{\u001b[39;00mkey\u001b[39m}\u001b[39;00m\u001b[39m] are in the [\u001b[39m\u001b[39m{\u001b[39;00maxis_name\u001b[39m}\u001b[39;00m\u001b[39m]\u001b[39m\u001b[39m\"\u001b[39m)\n\u001b[1;32m   6177\u001b[0m not_found \u001b[39m=\u001b[39m \u001b[39mlist\u001b[39m(ensure_index(key)[missing_mask\u001b[39m.\u001b[39mnonzero()[\u001b[39m0\u001b[39m]]\u001b[39m.\u001b[39munique())\n\u001b[1;32m   6178\u001b[0m \u001b[39mraise\u001b[39;00m \u001b[39mKeyError\u001b[39;00m(\u001b[39mf\u001b[39m\u001b[39m\"\u001b[39m\u001b[39m{\u001b[39;00mnot_found\u001b[39m}\u001b[39;00m\u001b[39m not in index\u001b[39m\u001b[39m\"\u001b[39m)\n",
      "\u001b[0;31mKeyError\u001b[0m: \"None of [Index(['area', 'bedrooms', 'bathrooms', 'stories', 'parking', 'price'], dtype='object')] are in the [columns]\""
     ]
    }
   ],
   "source": [
    "import pandas as pd\n",
    "from sklearn.model_selection import train_test_split\n",
    "from sklearn.tree import DecisionTreeRegressor\n",
    "from sklearn.metrics import mean_squared_error\n",
    "import matplotlib.pyplot as plt\n",
    "\n",
    "# Load the housing dataset (or use the actual dataset you have)\n",
    "# Assuming 'df' is your DataFrame\n",
    "\n",
    "# Select a subset of features\n",
    "selected_features = ['area', 'bedrooms', 'bathrooms', 'stories', 'parking']\n",
    "\n",
    "# Use only a small subset of the dataset\n",
    "df_subset = df[selected_features + ['price']].sample(frac=0.2, random_state=42)\n",
    "\n",
    "# Split the data into training and testing sets\n",
    "X_train, X_test, y_train, y_test = train_test_split(df_subset[selected_features], df_subset['price'], test_size=0.2, random_state=42)\n",
    "\n",
    "# Train a Decision Tree Regressor with a high max depth (potential for overfitting)\n",
    "regressor_overfit = DecisionTreeRegressor(max_depth=10, random_state=42)\n",
    "regressor_overfit.fit(X_train, y_train)"
   ]
  },
  {
   "cell_type": "markdown",
   "metadata": {},
   "source": [
    "**2. Prove the Overfitting with Evidence:**\n",
    "\n",
    "We'll evaluate the model on both the training and testing sets and compare the performance."
   ]
  },
  {
   "cell_type": "code",
   "execution_count": 23,
   "metadata": {},
   "outputs": [
    {
     "ename": "NameError",
     "evalue": "name 'regressor_overfit' is not defined",
     "output_type": "error",
     "traceback": [
      "\u001b[0;31m---------------------------------------------------------------------------\u001b[0m",
      "\u001b[0;31mNameError\u001b[0m                                 Traceback (most recent call last)",
      "\u001b[1;32m/Users/nimishasen/Desktop/MSc/Adv.Mathematics_Stats/Element1_Part1&2/Element1_Part2/Element1_Part2.ipynb Cell 29\u001b[0m line \u001b[0;36m2\n\u001b[1;32m      <a href='vscode-notebook-cell:/Users/nimishasen/Desktop/MSc/Adv.Mathematics_Stats/Element1_Part1%262/Element1_Part2/Element1_Part2.ipynb#Y102sZmlsZQ%3D%3D?line=0'>1</a>\u001b[0m \u001b[39m# Make predictions on the training set\u001b[39;00m\n\u001b[0;32m----> <a href='vscode-notebook-cell:/Users/nimishasen/Desktop/MSc/Adv.Mathematics_Stats/Element1_Part1%262/Element1_Part2/Element1_Part2.ipynb#Y102sZmlsZQ%3D%3D?line=1'>2</a>\u001b[0m y_train_pred_overfit \u001b[39m=\u001b[39m regressor_overfit\u001b[39m.\u001b[39mpredict(X_train)\n\u001b[1;32m      <a href='vscode-notebook-cell:/Users/nimishasen/Desktop/MSc/Adv.Mathematics_Stats/Element1_Part1%262/Element1_Part2/Element1_Part2.ipynb#Y102sZmlsZQ%3D%3D?line=3'>4</a>\u001b[0m \u001b[39m# Make predictions on the test set\u001b[39;00m\n\u001b[1;32m      <a href='vscode-notebook-cell:/Users/nimishasen/Desktop/MSc/Adv.Mathematics_Stats/Element1_Part1%262/Element1_Part2/Element1_Part2.ipynb#Y102sZmlsZQ%3D%3D?line=4'>5</a>\u001b[0m y_test_pred_overfit \u001b[39m=\u001b[39m regressor_overfit\u001b[39m.\u001b[39mpredict(X_test)\n",
      "\u001b[0;31mNameError\u001b[0m: name 'regressor_overfit' is not defined"
     ]
    }
   ],
   "source": [
    "# Make predictions on the training set\n",
    "y_train_pred_overfit = regressor_overfit.predict(X_train)\n",
    "\n",
    "# Make predictions on the test set\n",
    "y_test_pred_overfit = regressor_overfit.predict(X_test)\n",
    "\n",
    "# Calculate metrics (e.g., Mean Squared Error)\n",
    "mse_train_overfit = mean_squared_error(y_train, y_train_pred_overfit)\n",
    "mse_test_overfit = mean_squared_error(y_test, y_test_pred_overfit)\n",
    "\n",
    "print(f\"MSE on Training Set (Overfitting Scenario): {mse_train_overfit:.2f}\")\n",
    "print(f\"MSE on Test Set (Overfitting Scenario): {mse_test_overfit:.2f}\")"
   ]
  },
  {
   "cell_type": "markdown",
   "metadata": {},
   "source": [
    "**Visualizing Overfitting:**\n",
    "\n",
    "Now, let's visualize the predicted values on the training and testing sets."
   ]
  },
  {
   "cell_type": "code",
   "execution_count": 22,
   "metadata": {},
   "outputs": [
    {
     "ename": "NameError",
     "evalue": "name 'y_train_pred_overfit' is not defined",
     "output_type": "error",
     "traceback": [
      "\u001b[0;31m---------------------------------------------------------------------------\u001b[0m",
      "\u001b[0;31mNameError\u001b[0m                                 Traceback (most recent call last)",
      "\u001b[1;32m/Users/nimishasen/Desktop/MSc/Adv.Mathematics_Stats/Element1_Part1&2/Element1_Part2/Element1_Part2.ipynb Cell 31\u001b[0m line \u001b[0;36m5\n\u001b[1;32m      <a href='vscode-notebook-cell:/Users/nimishasen/Desktop/MSc/Adv.Mathematics_Stats/Element1_Part1%262/Element1_Part2/Element1_Part2.ipynb#Y105sZmlsZQ%3D%3D?line=2'>3</a>\u001b[0m \u001b[39m# Plotting predictions on the training set\u001b[39;00m\n\u001b[1;32m      <a href='vscode-notebook-cell:/Users/nimishasen/Desktop/MSc/Adv.Mathematics_Stats/Element1_Part1%262/Element1_Part2/Element1_Part2.ipynb#Y105sZmlsZQ%3D%3D?line=3'>4</a>\u001b[0m plt\u001b[39m.\u001b[39msubplot(\u001b[39m1\u001b[39m, \u001b[39m2\u001b[39m, \u001b[39m1\u001b[39m)\n\u001b[0;32m----> <a href='vscode-notebook-cell:/Users/nimishasen/Desktop/MSc/Adv.Mathematics_Stats/Element1_Part1%262/Element1_Part2/Element1_Part2.ipynb#Y105sZmlsZQ%3D%3D?line=4'>5</a>\u001b[0m plt\u001b[39m.\u001b[39mscatter(y_train, y_train_pred_overfit, alpha\u001b[39m=\u001b[39m\u001b[39m0.7\u001b[39m)\n\u001b[1;32m      <a href='vscode-notebook-cell:/Users/nimishasen/Desktop/MSc/Adv.Mathematics_Stats/Element1_Part1%262/Element1_Part2/Element1_Part2.ipynb#Y105sZmlsZQ%3D%3D?line=5'>6</a>\u001b[0m plt\u001b[39m.\u001b[39mplot([\u001b[39mmin\u001b[39m(y_train), \u001b[39mmax\u001b[39m(y_train)], [\u001b[39mmin\u001b[39m(y_train), \u001b[39mmax\u001b[39m(y_train)], linestyle\u001b[39m=\u001b[39m\u001b[39m'\u001b[39m\u001b[39m--\u001b[39m\u001b[39m'\u001b[39m, color\u001b[39m=\u001b[39m\u001b[39m'\u001b[39m\u001b[39mgray\u001b[39m\u001b[39m'\u001b[39m)\n\u001b[1;32m      <a href='vscode-notebook-cell:/Users/nimishasen/Desktop/MSc/Adv.Mathematics_Stats/Element1_Part1%262/Element1_Part2/Element1_Part2.ipynb#Y105sZmlsZQ%3D%3D?line=6'>7</a>\u001b[0m plt\u001b[39m.\u001b[39mtitle(\u001b[39m'\u001b[39m\u001b[39mPredictions on Training Set\u001b[39m\u001b[39m'\u001b[39m)\n",
      "\u001b[0;31mNameError\u001b[0m: name 'y_train_pred_overfit' is not defined"
     ]
    },
    {
     "data": {
      "image/png": "[encoded data removed]",
      "text/plain": [
       "<Figure size 1200x600 with 1 Axes>"
      ]
     },
     "metadata": {},
     "output_type": "display_data"
    }
   ],
   "source": [
    "plt.figure(figsize=(12, 6))\n",
    "\n",
    "# Plotting predictions on the training set\n",
    "plt.subplot(1, 2, 1)\n",
    "plt.scatter(y_train, y_train_pred_overfit, alpha=0.7)\n",
    "plt.plot([min(y_train), max(y_train)], [min(y_train), max(y_train)], linestyle='--', color='gray')\n",
    "plt.title('Predictions on Training Set')\n",
    "plt.xlabel('True Values')\n",
    "plt.ylabel('Predicted Values')\n",
    "\n",
    "# Plotting predictions on the test set\n",
    "plt.subplot(1, 2, 2)\n",
    "plt.scatter(y_test, y_test_pred_overfit, alpha=0.7)\n",
    "plt.plot([min(y_test), max(y_test)], [min(y_test), max(y_test)], linestyle='--', color='gray')\n",
    "plt.title('Predictions on Test Set')\n",
    "plt.xlabel('True Values')\n",
    "plt.ylabel('Predicted Values')\n",
    "\n",
    "plt.tight_layout()\n",
    "plt.show()"
   ]
  },
  {
   "cell_type": "markdown",
   "metadata": {},
   "source": [
    "In the visualizations, if the predicted values deviate significantly from the diagonal line, it indicates overfitting. The model has learned the noise in the training data, leading to poor generalization on the test set."
   ]
  },
  {
   "cell_type": "markdown",
   "metadata": {},
   "source": [
    "#### 7. Overfitting in Classification:\n"
   ]
  },
  {
   "cell_type": "markdown",
   "metadata": {},
   "source": [
    "Two regularization methods, L1 regularization (Lasso) and L2 regularization (Ridge), to mitigate overfitting and evaluate their performance on the housing dataset."
   ]
  },
  {
   "cell_type": "markdown",
   "metadata": {},
   "source": [
    "Apply L1 Regularization (Lasso):"
   ]
  },
  {
   "cell_type": "code",
   "execution_count": null,
   "metadata": {},
   "outputs": [],
   "source": [
    "from sklearn.linear_model import Lasso\n",
    "\n",
    "# Train a Lasso Regression model\n",
    "lasso_model = Lasso(alpha=0.01, random_state=42)\n",
    "lasso_model.fit(X_train, y_train)\n",
    "\n",
    "# Make predictions on the test set\n",
    "y_test_pred_lasso = lasso_model.predict(X_test)\n",
    "\n",
    "# Calculate metrics (e.g., Mean Squared Error)\n",
    "mse_test_lasso = mean_squared_error(y_test, y_test_pred_lasso)\n",
    "\n",
    "print(f\"MSE on Test Set (L1 Regularization): {mse_test_lasso:.2f}\")"
   ]
  },
  {
   "cell_type": "markdown",
   "metadata": {},
   "source": [
    "Apply L2 Regularization (Ridge):"
   ]
  },
  {
   "cell_type": "code",
   "execution_count": null,
   "metadata": {},
   "outputs": [],
   "source": [
    "from sklearn.linear_model import Ridge\n",
    "\n",
    "# Train a Ridge Regression model\n",
    "ridge_model = Ridge(alpha=0.01, random_state=42)\n",
    "ridge_model.fit(X_train, y_train)\n",
    "\n",
    "# Make predictions on the test set\n",
    "y_test_pred_ridge = ridge_model.predict(X_test)\n",
    "\n",
    "# Calculate metrics (e.g., Mean Squared Error)\n",
    "mse_test_ridge = mean_squared_error(y_test, y_test_pred_ridge)\n",
    "\n",
    "print(f\"MSE on Test Set (L2 Regularization): {mse_test_ridge:.2f}\")"
   ]
  },
  {
   "cell_type": "markdown",
   "metadata": {},
   "source": [
    "**Visualizing Regularization Effects:**\n",
    "\n",
    "Now, let's visualize the predicted values before and after applying regularization."
   ]
  },
  {
   "cell_type": "code",
   "execution_count": null,
   "metadata": {},
   "outputs": [],
   "source": [
    "plt.figure(figsize=(12, 6))\n",
    "\n",
    "# Plotting predictions before regularization\n",
    "plt.subplot(1, 2, 1)\n",
    "plt.scatter(y_test, y_test_pred_overfit, alpha=0.7, label='Before Regularization')\n",
    "plt.scatter(y_test, y_test_pred_lasso, alpha=0.7, label='L1 Regularization (Lasso)')\n",
    "plt.scatter(y_test, y_test_pred_ridge, alpha=0.7, label='L2 Regularization (Ridge)')\n",
    "plt.plot([min(y_test), max(y_test)], [min(y_test), max(y_test)], linestyle='--', color='gray')\n",
    "plt.title('Predictions Before Regularization')\n",
    "plt.xlabel('True Values')\n",
    "plt.ylabel('Predicted Values')\n",
    "plt.legend()\n",
    "\n",
    "# Plotting predictions after regularization\n",
    "plt.subplot(1, 2, 2)\n",
    "plt.scatter(y_test, y_test_pred_lasso, alpha=0.7, label='L1 Regularization (Lasso)')\n",
    "plt.scatter(y_test, y_test_pred_ridge, alpha=0.7, label='L2 Regularization (Ridge)')\n",
    "plt.plot([min(y_test), max(y_test)], [min(y_test), max(y_test)], linestyle='--', color='gray')\n",
    "plt.title('Predictions After Regularization')\n",
    "plt.xlabel('True Values')\n",
    "plt.ylabel('Predicted Values')\n",
    "plt.legend()\n",
    "\n",
    "plt.tight_layout()\n",
    "plt.show()"
   ]
  },
  {
   "cell_type": "markdown",
   "metadata": {},
   "source": [
    "In the visualizations, compare the predictions before regularization (overfitting scenario) with the predictions after applying L1 and L2 regularization. If regularization is effective, you should observe improved generalization on the test set, leading to predictions closer to the diagonal line."
   ]
  },
  {
   "cell_type": "markdown",
   "metadata": {},
   "source": [
    "#### 8. Decision Tree:\n"
   ]
  },
  {
   "cell_type": "markdown",
   "metadata": {},
   "source": [
    "Decision Trees are a popular machine learning algorithm for both classification and regression tasks. Pruning is a technique used to avoid overfitting by limiting the growth of the tree. Let's apply Decision Trees on the Mobile Phone Usage and Wine datasets, first without pruning and then with pruning.f"
   ]
  },
  {
   "cell_type": "markdown",
   "metadata": {},
   "source": [
    "##### Decision Tree without Pruning:"
   ]
  },
  {
   "cell_type": "markdown",
   "metadata": {},
   "source": [
    "**Mobile Phone Usage Dataset:**"
   ]
  },
  {
   "cell_type": "code",
   "execution_count": 24,
   "metadata": {},
   "outputs": [
    {
     "name": "stdout",
     "output_type": "stream",
     "text": [
      "Accuracy (Mobile Phone Usage - Decision Tree without Pruning): 0.95\n"
     ]
    }
   ],
   "source": [
    "from sklearn.model_selection import train_test_split\n",
    "from sklearn.tree import DecisionTreeClassifier\n",
    "from sklearn.metrics import accuracy_score\n",
    "\n",
    "# Assuming 'X' is your feature matrix and 'y' is your target variable\n",
    "\n",
    "# Split the data into training and testing sets\n",
    "X_train, X_test, y_train, y_test = train_test_split(X, y, test_size=0.2, random_state=42)\n",
    "\n",
    "# Create a Decision Tree classifier\n",
    "dt_classifier = DecisionTreeClassifier(random_state=42)\n",
    "\n",
    "# Fit the model to the training data\n",
    "dt_classifier.fit(X_train, y_train)\n",
    "\n",
    "# Make predictions on the test set\n",
    "y_pred = dt_classifier.predict(X_test)\n",
    "\n",
    "# Evaluate the accuracy\n",
    "accuracy = accuracy_score(y_test, y_pred)\n",
    "print(\"Accuracy (Mobile Phone Usage - Decision Tree without Pruning):\", accuracy)"
   ]
  },
  {
   "cell_type": "markdown",
   "metadata": {},
   "source": [
    "**Wine Dataset:**"
   ]
  },
  {
   "cell_type": "code",
   "execution_count": 25,
   "metadata": {},
   "outputs": [
    {
     "name": "stdout",
     "output_type": "stream",
     "text": [
      "Accuracy (Wine Dataset - Decision Tree without Pruning): 0.95\n"
     ]
    }
   ],
   "source": [
    "from sklearn.model_selection import train_test_split\n",
    "from sklearn.tree import DecisionTreeClassifier\n",
    "from sklearn.metrics import accuracy_score\n",
    "\n",
    "# Assuming 'X' is your feature matrix and 'y' is your target variable\n",
    "\n",
    "# Split the data into training and testing sets\n",
    "X_train, X_test, y_train, y_test = train_test_split(X, y, test_size=0.2, random_state=42)\n",
    "\n",
    "# Create a Decision Tree classifier\n",
    "dt_classifier = DecisionTreeClassifier(random_state=42)\n",
    "\n",
    "# Fit the model to the training data\n",
    "dt_classifier.fit(X_train, y_train)\n",
    "\n",
    "# Make predictions on the test set\n",
    "y_pred = dt_classifier.predict(X_test)\n",
    "\n",
    "# Evaluate the accuracy\n",
    "accuracy = accuracy_score(y_test, y_pred)\n",
    "print(\"Accuracy (Wine Dataset - Decision Tree without Pruning):\", accuracy)"
   ]
  },
  {
   "cell_type": "markdown",
   "metadata": {},
   "source": [
    "##### Decision Tree with Pruning:"
   ]
  },
  {
   "cell_type": "markdown",
   "metadata": {},
   "source": [
    "**Mobile Phone Usage Dataset:**"
   ]
  },
  {
   "cell_type": "code",
   "execution_count": 26,
   "metadata": {},
   "outputs": [
    {
     "name": "stdout",
     "output_type": "stream",
     "text": [
      "Accuracy (Mobile Phone Usage - Decision Tree with Pruning): 0.95\n"
     ]
    }
   ],
   "source": [
    "from sklearn.model_selection import train_test_split\n",
    "from sklearn.tree import DecisionTreeClassifier\n",
    "from sklearn.metrics import accuracy_score\n",
    "\n",
    "# Assuming 'X' is your feature matrix and 'y' is your target variable\n",
    "\n",
    "# Split the data into training and testing sets\n",
    "X_train, X_test, y_train, y_test = train_test_split(X, y, test_size=0.2, random_state=42)\n",
    "\n",
    "# Create a Decision Tree classifier with pruning (max_depth as an example)\n",
    "dt_pruned_classifier = DecisionTreeClassifier(max_depth=3, random_state=42)\n",
    "\n",
    "# Fit the model to the training data\n",
    "dt_pruned_classifier.fit(X_train, y_train)\n",
    "\n",
    "# Make predictions on the test set\n",
    "y_pred_pruned = dt_pruned_classifier.predict(X_test)\n",
    "\n",
    "# Evaluate the accuracy\n",
    "accuracy_pruned = accuracy_score(y_test, y_pred_pruned)\n",
    "print(\"Accuracy (Mobile Phone Usage - Decision Tree with Pruning):\", accuracy_pruned)"
   ]
  },
  {
   "cell_type": "markdown",
   "metadata": {},
   "source": [
    "**Wine Data:**"
   ]
  },
  {
   "cell_type": "code",
   "execution_count": 27,
   "metadata": {},
   "outputs": [
    {
     "name": "stdout",
     "output_type": "stream",
     "text": [
      "Accuracy (Wine Dataset - Decision Tree with Pruning): 0.95\n"
     ]
    }
   ],
   "source": [
    "from sklearn.model_selection import train_test_split\n",
    "from sklearn.tree import DecisionTreeClassifier\n",
    "from sklearn.metrics import accuracy_score\n",
    "\n",
    "# Assuming 'X' is your feature matrix and 'y' is your target variable\n",
    "\n",
    "# Split the data into training and testing sets\n",
    "X_train, X_test, y_train, y_test = train_test_split(X, y, test_size=0.2, random_state=42)\n",
    "\n",
    "# Create a Decision Tree classifier with pruning (max_depth as an example)\n",
    "dt_pruned_classifier = DecisionTreeClassifier(max_depth=3, random_state=42)\n",
    "\n",
    "# Fit the model to the training data\n",
    "dt_pruned_classifier.fit(X_train, y_train)\n",
    "\n",
    "# Make predictions on the test set\n",
    "y_pred_pruned = dt_pruned_classifier.predict(X_test)\n",
    "\n",
    "# Evaluate the accuracy\n",
    "accuracy_pruned = accuracy_score(y_test, y_pred_pruned)\n",
    "print(\"Accuracy (Wine Dataset - Decision Tree with Pruning):\", accuracy_pruned)"
   ]
  },
  {
   "cell_type": "markdown",
   "metadata": {},
   "source": [
    "**Observations:**\n",
    "\n",
    "- Without pruning, Decision Trees may become overly complex and prone to overfitting, especially when dealing with noisy data.\n",
    "- With pruning, the Decision Tree is constrained, leading to a simpler model that may generalize better to unseen data.\n",
    "- Pruning decisions, such as setting the maximum depth (**`max_depth`**), should be chosen based on cross-validation and model evaluation to avoid underfitting or overfitting.\n",
    "- The accuracy score is used here as a metric for evaluation, but depending on the specific task, other metrics may be more appropriate (e.g., precision, recall, F1 score).\n",
    "- The impact of pruning may vary between datasets, and it's essential to experiment with different hyperparameters and observe their effect on model performance."
   ]
  }
 ],
 "metadata": {
  "kernelspec": {
   "display_name": "Python 3",
   "language": "python",
   "name": "python3"
  },
  "language_info": {
   "codemirror_mode": {
    "name": "ipython",
    "version": 3
   },
   "file_extension": ".py",
   "mimetype": "text/x-python",
   "name": "python",
   "nbconvert_exporter": "python",
   "pygments_lexer": "ipython3",
   "version": "3.10.13"
  }
 },
 "nbformat": 4,
 "nbformat_minor": 2
}
